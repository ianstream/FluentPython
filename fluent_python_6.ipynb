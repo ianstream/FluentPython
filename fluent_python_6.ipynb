{
 "cells": [
  {
   "cell_type": "code",
   "execution_count": 1,
   "metadata": {
    "collapsed": true
   },
   "outputs": [],
   "source": [
    "\"\"\"\n",
    "소프트웨어 에서의 디자인 패턴 : 특정 환경에서 반복되는 문제들을 재사용할 수 있는 방법으로 해결한 것\n",
    "\n",
    "디자인 패턴은 크게 생성, 구조, 행동 패턴으로 나뉜다.\n",
    "\n",
    "이 분야의 고전인 GoF 의 디자인 패턴 에는 이와 관련된 23개의 패턴이 정리되어 있다.\n",
    "\n",
    "안타깝게도, 스몰토크나 C++ 을 바탕으로 한 구현코드는 파이썬과 같은 동적 언어에서는 부합하지 않는다.\n",
    "(23개 중 16개가 동적 언어에서는 보이지 않거나 더 단순하다고 한다)\n",
    "\n",
    "여기선 행동 패턴의 하나인 전략 패턴을 고전적인 방식에서부터 파이썬에 맞는 방식으로 변형시켜가며 동적 언어에서 구현체의 차이점을 살펴보고자 한다\n",
    "\"\"\""
   ]
  },
  {
   "cell_type": "code",
   "execution_count": null,
   "metadata": {
    "collapsed": true
   },
   "outputs": [],
   "source": [
    "# fluent python 6"
   ]
  },
  {
   "cell_type": "code",
   "execution_count": 2,
   "metadata": {
    "collapsed": false
   },
   "outputs": [],
   "source": [
    "# 6-1"
   ]
  },
  {
   "cell_type": "code",
   "execution_count": 97,
   "metadata": {
    "collapsed": false
   },
   "outputs": [],
   "source": [
    "# 플러그인 형 할인 전략을 가진 Order 클래스 구현\n",
    "\n",
    "from abc import ABC, abstractmethod\n",
    "from collections import namedtuple\n",
    "\n",
    "Customer = namedtuple('Customer', 'name fidelity')\n",
    "\n",
    "\n",
    "class LineItem:\n",
    "    \n",
    "    def __init__(self, product, quantity, price):\n",
    "        self.product = product\n",
    "        self.quantity = quantity\n",
    "        self.price = price\n",
    "\n",
    "    def total(self):\n",
    "        return self.price * self.quantity\n",
    "\n",
    "    \n",
    "# 콘텍스트\n",
    "class Order:\n",
    "    \n",
    "    def __init__(self, customer, cart, promotion=None):\n",
    "        self.customer = customer\n",
    "        self.cart = list(cart)\n",
    "        self.promotion = promotion\n",
    "    \n",
    "    def total(self):\n",
    "        if not hasattr(self, '__total'):\n",
    "            self.__total = sum(item.total() for item in self.cart)\n",
    "        return self.__total\n",
    "    \n",
    "    def due(self):\n",
    "        if self.promotion is None:\n",
    "            discount = 0\n",
    "        else:\n",
    "            discount = self.promotion.discount(self)\n",
    "        return self.total() - discount\n",
    "\n",
    "    def __repr__(self):\n",
    "        fmt = '<Order total: {:.2f} due: {:.2f}>'\n",
    "        return fmt.format(self.total(), self.due())\n",
    " \n",
    "\n",
    "# 전략: Abstract Base Class\n",
    "class Promotion(ABC):\n",
    "    @abstractmethod\n",
    "    def discount(self, order):\n",
    "        \"\"\"할인액을 구체적인 숫자로 반환한다.\"\"\"\n",
    "\n",
    "        \n",
    "# 첫번째 구체적인 전략\n",
    "class FidelityPromo(Promotion):\n",
    "    \"\"\"충성도 포인트가 1000점 이상인 고객에게 전체 5% 할인 적용\"\"\"\n",
    "    def discount(self, order):\n",
    "        return order.total() * .05 if order.customer.fidelity >= 1000 else 0\n",
    "\n",
    "\n",
    "# 두번째 구체적인 전략\n",
    "class Bulkitemromo(Promotion):\n",
    "    \"\"\"20개 이상의 동일 상품을 구입하면 10% 할인 적용\"\"\"\n",
    "    def discount(self, order):\n",
    "        discount = 0\n",
    "        for item in order.cart:\n",
    "            if item.quantity >= 20:\n",
    "                discount += item.total() * .1\n",
    "        return discount\n",
    "\n",
    "\n",
    "# 세번째 구체적인 전략\n",
    "class LargeOrderPromo(Promotion):\n",
    "    \"\"\"10 종류 이상의 상품을 구입하면 전체 7% 할인 적용\"\"\"\n",
    "    def discount(self, order):\n",
    "        discount = 0\n",
    "        distinct_tems = {item.product for item in order.cart}\n",
    "        if len(distinct_tems) >= 10:\n",
    "            return order.total() * .07\n",
    "        return 0"
   ]
  },
  {
   "cell_type": "code",
   "execution_count": 4,
   "metadata": {
    "collapsed": true
   },
   "outputs": [],
   "source": [
    "# 6-2 사용예"
   ]
  },
  {
   "cell_type": "code",
   "execution_count": 5,
   "metadata": {
    "collapsed": false
   },
   "outputs": [],
   "source": [
    "\"\"\"\n",
    "존의 충성도는 0, 앤은 1100이다. \n",
    "카트목록은 총 3개이다\n",
    "바나나의 수량은 4, 가격은 5 이다\n",
    "사과의 수량은 10, 가격은 1.5 이다\n",
    "수박의 수량은 5, 가격은 5 이다\n",
    "\"\"\"\n",
    "joe = Customer('John Doe', 0)\n",
    "ann = Customer('Ann Smith', 1100)\n",
    "cart = [LineItem('banana', 4, 5), LineItem('apple', 10, 1.5), LineItem('watermelon', 5, 5.0)]"
   ]
  },
  {
   "cell_type": "code",
   "execution_count": 6,
   "metadata": {
    "collapsed": false
   },
   "outputs": [
    {
     "data": {
      "text/plain": [
       "<Order total: 60.00 due: 60.00>"
      ]
     },
     "execution_count": 6,
     "metadata": {},
     "output_type": "execute_result"
    }
   ],
   "source": [
    "# 충성도 포인트\n",
    "Order(joe, cart, FidelityPromo())"
   ]
  },
  {
   "cell_type": "code",
   "execution_count": 7,
   "metadata": {
    "collapsed": false
   },
   "outputs": [
    {
     "data": {
      "text/plain": [
       "<Order total: 60.00 due: 57.00>"
      ]
     },
     "execution_count": 7,
     "metadata": {},
     "output_type": "execute_result"
    }
   ],
   "source": [
    "# 충성도 포인트\n",
    "Order(ann, cart, FidelityPromo())"
   ]
  },
  {
   "cell_type": "code",
   "execution_count": 8,
   "metadata": {
    "collapsed": true
   },
   "outputs": [],
   "source": [
    "# 새로운 카트 - 대량구매\n",
    "banana_cart = [LineItem('banana', 30, .5), LineItem('apple', 10, 1.5)]"
   ]
  },
  {
   "cell_type": "code",
   "execution_count": 9,
   "metadata": {
    "collapsed": false
   },
   "outputs": [
    {
     "data": {
      "text/plain": [
       "<Order total: 30.00 due: 28.50>"
      ]
     },
     "execution_count": 9,
     "metadata": {},
     "output_type": "execute_result"
    }
   ],
   "source": [
    "# 동일 상품\n",
    "Order(joe, banana_cart, Bulkitemromo())"
   ]
  },
  {
   "cell_type": "code",
   "execution_count": 10,
   "metadata": {
    "collapsed": true
   },
   "outputs": [],
   "source": [
    "# 새로운 카트 - 다품종 구매\n",
    "long_order = [LineItem(str(item_code), 1, 1.0) for item_code in range(10)]"
   ]
  },
  {
   "cell_type": "code",
   "execution_count": 11,
   "metadata": {
    "collapsed": false
   },
   "outputs": [
    {
     "data": {
      "text/plain": [
       "<Order total: 10.00 due: 9.30>"
      ]
     },
     "execution_count": 11,
     "metadata": {},
     "output_type": "execute_result"
    }
   ],
   "source": [
    "# 다품종\n",
    "Order(joe, long_order, LargeOrderPromo())"
   ]
  },
  {
   "cell_type": "code",
   "execution_count": 12,
   "metadata": {
    "collapsed": false
   },
   "outputs": [
    {
     "data": {
      "text/plain": [
       "<Order total: 60.00 due: 60.00>"
      ]
     },
     "execution_count": 12,
     "metadata": {},
     "output_type": "execute_result"
    }
   ],
   "source": [
    "# 다품종\n",
    "Order(joe, cart, LargeOrderPromo())"
   ]
  },
  {
   "cell_type": "code",
   "execution_count": 13,
   "metadata": {
    "collapsed": false
   },
   "outputs": [
    {
     "data": {
      "text/plain": [
       "'\\n6-3 할인 전략을 함수로 구현\\n위에서 살펴본 전략 패턴은 discount 함수를 가진 클래스로 구성된다\\n객체의 속성이 없는 관계로 일반 함수로 구성하면 더 단순화 시킬 수 있다\\n'"
      ]
     },
     "execution_count": 13,
     "metadata": {},
     "output_type": "execute_result"
    }
   ],
   "source": [
    "\"\"\"\n",
    "6-3 할인 전략을 함수로 구현\n",
    "위에서 살펴본 전략 패턴은 discount 함수를 가진 클래스로 구성된다\n",
    "객체의 속성이 없는 관계로 일반 함수로 구성하면 더 단순화 시킬 수 있다\n",
    "\"\"\""
   ]
  },
  {
   "cell_type": "code",
   "execution_count": 14,
   "metadata": {
    "collapsed": false
   },
   "outputs": [],
   "source": [
    "from collections import namedtuple\n",
    "\n",
    "Customer = namedtuple('Customer', 'name fidelity')\n",
    "\n",
    "\n",
    "class LineItem:\n",
    "    def __init__(self, product, quantity, price):\n",
    "        self.product = product\n",
    "        self.quantity = quantity\n",
    "        self.price = price\n",
    "\n",
    "    def total(self):\n",
    "        return self.price * self.quantity\n",
    "\n",
    "    \n",
    "class Order: # 콘텍스트\n",
    "    def __init__(self, customer, cart, promotion=None):\n",
    "        self.customer = customer\n",
    "        self.cart = list(cart)\n",
    "        self.promotion = promotion\n",
    "        \n",
    "    def total(self):\n",
    "        if not hasattr(self, '__total'):\n",
    "            self.__total = sum(item.total() for item in self.cart)\n",
    "        return self.__total\n",
    "\n",
    "    def due(self):\n",
    "        if self.promotion is None:\n",
    "            discount = 0\n",
    "        else:\n",
    "            discount = self.promotion(self)\n",
    "        return self.total() - discount\n",
    "\n",
    "    def __repr__(self):\n",
    "        fmt = ' < Order total: {:.2f} due: {:.2f} > '\n",
    "        return fmt.format(self.total(), self.due())\n",
    "\n",
    "    \n",
    "\"\"\"\n",
    "추상 클래스와 추상 메소드가 사라지고, 전략패턴의 클래스를 함수로 구현했다\n",
    "\"\"\"\n",
    "def fidelity_promo(order): \n",
    "    \"\"\" 충성도 포인트가 1000 점 이상인 고객에게 전체 5% 할인 적용 \"\"\"\n",
    "    return order.total() * .05 if order.customer.fidelity >= 1000 else 0\n",
    "\n",
    "\n",
    "def bulk_item_promo(order):\n",
    "    \"\"\"20 개 이상의 동일 상품을 구입하면 10% 할인 적용 \"\"\"\n",
    "    discount = 0\n",
    "    for item in order.cart:\n",
    "        if item.quantity >= 20:\n",
    "            discount += item.total() * .1\n",
    "    return discount\n",
    "\n",
    "\n",
    "def large_order_promo(order):\n",
    "    \"\"\"10 종류 이상의 상품을 구입하면 전체 7% 할인 적용 \"\"\"\n",
    "    distinct_items = {item.product for item in order.cart}\n",
    "    if len(distinct_items) >= 10:\n",
    "        return order.total() * .07\n",
    "    return 0"
   ]
  },
  {
   "cell_type": "code",
   "execution_count": 15,
   "metadata": {
    "collapsed": true
   },
   "outputs": [],
   "source": [
    "# 6-4 할인 전략을 함수로 정의한 Order 클래스의 사용 예"
   ]
  },
  {
   "cell_type": "code",
   "execution_count": 16,
   "metadata": {
    "collapsed": false
   },
   "outputs": [],
   "source": [
    "joe = Customer('John Doe', 0) \n",
    "ann = Customer('Ann Smith', 1100)"
   ]
  },
  {
   "cell_type": "code",
   "execution_count": 108,
   "metadata": {
    "collapsed": false
   },
   "outputs": [
    {
     "data": {
      "text/plain": [
       "Customer(name='John Doe', fidelity=0)"
      ]
     },
     "execution_count": 108,
     "metadata": {},
     "output_type": "execute_result"
    }
   ],
   "source": [
    "joe"
   ]
  },
  {
   "cell_type": "code",
   "execution_count": 17,
   "metadata": {
    "collapsed": true
   },
   "outputs": [],
   "source": [
    "cart = [LineItem('banana', 4, .5), LineItem('apple', 10, 1.5), LineItem('watermellon', 5, 5.0)]"
   ]
  },
  {
   "cell_type": "code",
   "execution_count": 18,
   "metadata": {
    "collapsed": false
   },
   "outputs": [
    {
     "data": {
      "text/plain": [
       " < Order total: 42.00 due: 42.00 > "
      ]
     },
     "execution_count": 18,
     "metadata": {},
     "output_type": "execute_result"
    }
   ],
   "source": [
    "Order(joe, cart, fidelity_promo)"
   ]
  },
  {
   "cell_type": "code",
   "execution_count": 19,
   "metadata": {
    "collapsed": false
   },
   "outputs": [
    {
     "data": {
      "text/plain": [
       " < Order total: 42.00 due: 39.90 > "
      ]
     },
     "execution_count": 19,
     "metadata": {},
     "output_type": "execute_result"
    }
   ],
   "source": [
    "Order(ann, cart, fidelity_promo)"
   ]
  },
  {
   "cell_type": "code",
   "execution_count": 20,
   "metadata": {
    "collapsed": false
   },
   "outputs": [],
   "source": [
    "banana_cart = [LineItem('banana', 30, .5), LineItem('apple', 10, 1.5)]"
   ]
  },
  {
   "cell_type": "code",
   "execution_count": 21,
   "metadata": {
    "collapsed": false
   },
   "outputs": [
    {
     "data": {
      "text/plain": [
       " < Order total: 30.00 due: 28.50 > "
      ]
     },
     "execution_count": 21,
     "metadata": {},
     "output_type": "execute_result"
    }
   ],
   "source": [
    "# 대량구매\n",
    "Order(joe, banana_cart, bulk_item_promo)"
   ]
  },
  {
   "cell_type": "code",
   "execution_count": 22,
   "metadata": {
    "collapsed": false
   },
   "outputs": [],
   "source": [
    "long_order = [LineItem(str(item_code), 1, 1.0) for item_code in range(10)]"
   ]
  },
  {
   "cell_type": "code",
   "execution_count": 23,
   "metadata": {
    "collapsed": false
   },
   "outputs": [
    {
     "data": {
      "text/plain": [
       " < Order total: 10.00 due: 9.30 > "
      ]
     },
     "execution_count": 23,
     "metadata": {},
     "output_type": "execute_result"
    }
   ],
   "source": [
    "#다품종 구매\n",
    "Order(joe, long_order, large_order_promo)"
   ]
  },
  {
   "cell_type": "code",
   "execution_count": 24,
   "metadata": {
    "collapsed": false
   },
   "outputs": [
    {
     "data": {
      "text/plain": [
       " < Order total: 42.00 due: 42.00 > "
      ]
     },
     "execution_count": 24,
     "metadata": {},
     "output_type": "execute_result"
    }
   ],
   "source": [
    "Order(joe, cart, large_order_promo)"
   ]
  },
  {
   "cell_type": "code",
   "execution_count": 25,
   "metadata": {
    "collapsed": true
   },
   "outputs": [],
   "source": [
    "# 최선의 전략 선택하려면?"
   ]
  },
  {
   "cell_type": "code",
   "execution_count": 26,
   "metadata": {
    "collapsed": true
   },
   "outputs": [],
   "source": [
    "# 6-6 리스트"
   ]
  },
  {
   "cell_type": "code",
   "execution_count": 41,
   "metadata": {
    "collapsed": true
   },
   "outputs": [],
   "source": [
    "promos = [fidelity_promo, bulk_item_promo, large_order_promo]"
   ]
  },
  {
   "cell_type": "code",
   "execution_count": 42,
   "metadata": {
    "collapsed": true
   },
   "outputs": [],
   "source": [
    "def best_promo(order): \n",
    "    \"\"\" 최대로 할인받을 금액을 반환한다 .\n",
    "    \"\"\"\n",
    "    return max(promo(order) for promo in promos)"
   ]
  },
  {
   "cell_type": "code",
   "execution_count": 43,
   "metadata": {
    "collapsed": false
   },
   "outputs": [
    {
     "data": {
      "text/plain": [
       "1.5"
      ]
     },
     "execution_count": 43,
     "metadata": {},
     "output_type": "execute_result"
    }
   ],
   "source": [
    "best_promo(Order(joe, banana_cart))"
   ]
  },
  {
   "cell_type": "code",
   "execution_count": 44,
   "metadata": {
    "collapsed": false
   },
   "outputs": [
    {
     "data": {
      "text/plain": [
       "'\\n# 6-7 모듈 전역 네임스페이스를 내부 조사해서 만든 promos 리스트\\n\\n새로운 할인 전략이 추가된다면?\\n\\nglobals() : 현재 전역 심벌 테이블을 나타내는 딕셔너리 객체를 반환한다\\n이 딕셔너리는 언제나 현재 모듈에 대한 내용을 담고 있다\\nhttps://docs.python.org/3/library/functions.html#globals\\n'"
      ]
     },
     "execution_count": 44,
     "metadata": {},
     "output_type": "execute_result"
    }
   ],
   "source": [
    "\"\"\"\n",
    "# 6-7 모듈 전역 네임스페이스를 내부 조사해서 만든 promos 리스트\n",
    "\n",
    "새로운 할인 전략이 추가된다면?\n",
    "\n",
    "globals() : 현재 전역 심벌 테이블을 나타내는 딕셔너리 객체를 반환한다\n",
    "이 딕셔너리는 언제나 현재 모듈에 대한 내용을 담고 있다\n",
    "https://docs.python.org/3/library/functions.html#globals\n",
    "\"\"\""
   ]
  },
  {
   "cell_type": "code",
   "execution_count": 30,
   "metadata": {
    "collapsed": false
   },
   "outputs": [
    {
     "data": {
      "text/plain": [
       "{'ABC': abc.ABC,\n",
       " 'Bulkitemromo': __main__.Bulkitemromo,\n",
       " 'Customer': __main__.Customer,\n",
       " 'FidelityPromo': __main__.FidelityPromo,\n",
       " 'In': ['',\n",
       "  '# fluent python 6',\n",
       "  '# 6-1',\n",
       "  '# 플러그인 형 할인 전략을 가진 Order 클래스 구현\\n\\nfrom abc import ABC, abstractmethod\\nfrom collections import namedtuple\\n\\nCustomer = namedtuple(\\'Customer\\', \\'name fidelity\\')\\n\\n\\nclass LineItem:\\n    \\n    def __init__(self, product, quantity, price):\\n        self.product = product\\n        self.quantity = quantity\\n        self.price = price\\n\\n    def total(self):\\n        return self.price * self.quantity\\n\\n    \\n# 콘텍스트\\nclass Order:\\n    \\n    def __init__(self, customer, cart, promotion=None):\\n        self.customer = customer\\n        self.cart = list(cart)\\n        self.promotion = promotion\\n    \\n    def total(self):\\n        if not hasattr(self, \\'__total\\'):\\n            self.__total = sum(item.total() for item in self.cart)\\n        return self.__total\\n    \\n    def due(self):\\n        if self.promotion is None:\\n            discount = 0\\n        else:\\n            discount = self.promotion.discount(self)\\n        return self.total() - discount\\n\\n    def __repr__(self):\\n        fmt = \\'<Order total: {:.2f} due: {:.2f}>\\'\\n        return fmt.format(self.total(), self.due())\\n \\n\\n# 전략: Abstract Base Class\\nclass Promotion(ABC):\\n    @abstractmethod\\n    def discount(self, order):\\n        \"\"\"할인액을 구체적인 숫자로 반환한다.\"\"\"\\n\\n        \\n# 첫번째 구체적인 전략\\nclass FidelityPromo(Promotion):\\n    \"\"\"충성도 포인트가 1000점 이상인 고객에게 전체 5% 할인 적용\"\"\"\\n    def discount(self, order):\\n        return order.total() * .05 if order.customer.fidelity >= 1000 else 0\\n\\n\\n# 두번째 구체적인 전략\\nclass Bulkitemromo(Promotion):\\n    \"\"\"20개 이상의 동일 상품을 구입하면 10% 할인 적용\"\"\"\\n    def discount(self, order):\\n        discount = 0\\n        for item in order.cart:\\n            if item.quantity >= 20:\\n                discount += item.total() * .1\\n        return discount\\n\\n\\n# 세번째 구체적인 전략\\nclass LargeOrderPromo(Promotion):\\n    \"\"\"10 종류 이상의 상품을 구입하면 전체 7% 할인 적용\"\"\"\\n    def discount(self, order):\\n        discount = 0\\n        distinct_tems = {item.product for item in order.cart}\\n        if len(distinct_tems) >= 10:\\n            return order.total() * .07\\n        return 0',\n",
       "  '# 6-2 사용예',\n",
       "  '\"\"\"\\n존의 충성도는 0, 앤은 1100이다. \\n카트목록은 총 3개이다\\n바나나의 수량은 4, 가격은 5 이다\\n사과의 수량은 10, 가격은 1.5 이다\\n수박의 수량은 5, 가격은 5 이다\\n\"\"\"\\njoe = Customer(\\'John Doe\\', 0)\\nann = Customer(\\'Ann Smith\\', 1100)\\ncart = [LineItem(\\'banana\\', 4, 5), LineItem(\\'apple\\', 10, 1.5), LineItem(\\'watermelon\\', 5, 5.0)]',\n",
       "  '# 충성도 포인트\\nOrder(joe, cart, FidelityPromo())',\n",
       "  '# 충성도 포인트\\nOrder(ann, cart, FidelityPromo())',\n",
       "  \"# 새로운 카트 - 대량구매\\nbanana_cart = [LineItem('banana', 30, .5), LineItem('apple', 10, 1.5)]\",\n",
       "  '# 동일 상품\\nOrder(joe, banana_cart, Bulkitemromo())',\n",
       "  '# 새로운 카트 - 다품종 구매\\nlong_order = [LineItem(str(item_code), 1, 1.0) for item_code in range(10)]',\n",
       "  '# 다품종\\nOrder(joe, long_order, LargeOrderPromo())',\n",
       "  '# 다품종\\nOrder(joe, cart, LargeOrderPromo())',\n",
       "  '\"\"\"\\n6-3 할인 전략을 함수로 구현\\n위에서 살펴본 전략 패턴은 discount 함수를 가진 클래스로 구성된다\\n객체의 속성이 없는 관계로 일반 함수로 구성하면 더 단순화 시킬 수 있다\\n\"\"\"',\n",
       "  'from collections import namedtuple\\n\\nCustomer = namedtuple(\\'Customer\\', \\'name fidelity\\')\\n\\n\\nclass LineItem:\\n    def __init__(self, product, quantity, price):\\n        self.product = product\\n        self.quantity = quantity\\n        self.price = price\\n\\n    def total(self):\\n        return self.price * self.quantity\\n\\n    \\nclass Order: # 콘텍스트\\n    def __init__(self, customer, cart, promotion=None):\\n        self.customer = customer\\n        self.cart = list(cart)\\n        self.promotion = promotion\\n        \\n    def total(self):\\n        if not hasattr(self, \\'__total\\'):\\n            self.__total = sum(item.total() for item in self.cart)\\n        return self.__total\\n\\n    def due(self):\\n        if self.promotion is None:\\n            discount = 0\\n        else:\\n            discount = self.promotion(self)\\n        return self.total() - discount\\n\\n    def __repr__(self):\\n        fmt = \\' < Order total: {:.2f} due: {:.2f} > \\'\\n        return fmt.format(self.total(), self.due())\\n\\n    \\n\"\"\"\\n추상 클래스와 추상 메소드가 사라지고, 전략패턴의 클래스를 함수로 구현했다\\n\"\"\"\\ndef fidelity_promo(order): \\n    \"\"\" 충성도 포인트가 1000 점 이상인 고객에게 전체 5% 할인 적용 \"\"\"\\n    return order.total() * .05 if order.customer.fidelity >= 1000 else 0\\n\\n\\ndef bulk_item_promo(order):\\n    \"\"\"20 개 이상의 동일 상품을 구입하면 10% 할인 적용 \"\"\"\\n    discount = 0\\n    for item in order.cart:\\n        if item.quantity >= 20:\\n            discount += item.total() * .1\\n    return discount\\n\\n\\ndef large_order_promo(order):\\n    \"\"\"10 종류 이상의 상품을 구입하면 전체 7% 할인 적용 \"\"\"\\n    distinct_items = {item.product for item in order.cart}\\n    if len(distinct_items) >= 10:\\n        return order.total() * .07\\n    return 0',\n",
       "  '# 6-4 할인 전략을 함수로 정의한 Order 클래스의 사용 예',\n",
       "  \"joe = Customer('John Doe', 0) \\nann = Customer('Ann Smith', 1100)\",\n",
       "  \"cart = [LineItem('banana', 4, .5), LineItem('apple', 10, 1.5), LineItem('watermellon', 5, 5.0)]\",\n",
       "  'Order(joe, cart, fidelity_promo)',\n",
       "  'Order(ann, cart, fidelity_promo)',\n",
       "  \"banana_cart = [LineItem('banana', 30, .5), LineItem('apple', 10, 1.5)]\",\n",
       "  '# 대량구매\\nOrder(joe, banana_cart, bulk_item_promo)',\n",
       "  'long_order = [LineItem(str(item_code), 1, 1.0) for item_code in range(10)]',\n",
       "  '#다품종 구매\\nOrder(joe, long_order, large_order_promo)',\n",
       "  'Order(joe, cart, large_order_promo)',\n",
       "  '# 최선의 전략 선택하려면?',\n",
       "  '# 6-6 리스트',\n",
       "  'promos = [fidelity_promo, bulk_item_promo, large_order_promo]\\n\\ndef best_promo(order): \\n    \"\"\" 최대로 할인받을 금액을 반환한다 .\\n    \"\"\"\\n    return max(promo(order) for promo in promos)',\n",
       "  'best_promo(Order(joe, banana_cart))',\n",
       "  '\"\"\"\\n# 6-7 모듈 전역 네임스페이스를 내부 조사해서 만든 promos 리스트\\n\\n새로운 할인 전략이 추가된다면?\\n\\nglobals() : 현재 전역 심벌 테이블을 나타내는 딕셔너리 객체를 반환한다\\n이 딕셔너리는 언제나 현재 모듈에 대한 내용을 담고 있다\\nhttps://docs.python.org/3/library/functions.html#globals\\n\"\"\"',\n",
       "  'globals()'],\n",
       " 'LargeOrderPromo': __main__.LargeOrderPromo,\n",
       " 'LineItem': __main__.LineItem,\n",
       " 'Order': __main__.Order,\n",
       " 'Out': {6: <Order total: 60.00 due: 60.00>,\n",
       "  7: <Order total: 60.00 due: 57.00>,\n",
       "  9: <Order total: 30.00 due: 28.50>,\n",
       "  11: <Order total: 10.00 due: 9.30>,\n",
       "  12: <Order total: 60.00 due: 60.00>,\n",
       "  13: '\\n6-3 할인 전략을 함수로 구현\\n위에서 살펴본 전략 패턴은 discount 함수를 가진 클래스로 구성된다\\n객체의 속성이 없는 관계로 일반 함수로 구성하면 더 단순화 시킬 수 있다\\n',\n",
       "  18:  < Order total: 42.00 due: 42.00 > ,\n",
       "  19:  < Order total: 42.00 due: 39.90 > ,\n",
       "  21:  < Order total: 30.00 due: 28.50 > ,\n",
       "  23:  < Order total: 10.00 due: 9.30 > ,\n",
       "  24:  < Order total: 42.00 due: 42.00 > ,\n",
       "  28: 1.5,\n",
       "  29: '\\n# 6-7 모듈 전역 네임스페이스를 내부 조사해서 만든 promos 리스트\\n\\n새로운 할인 전략이 추가된다면?\\n\\nglobals() : 현재 전역 심벌 테이블을 나타내는 딕셔너리 객체를 반환한다\\n이 딕셔너리는 언제나 현재 모듈에 대한 내용을 담고 있다\\nhttps://docs.python.org/3/library/functions.html#globals\\n'},\n",
       " 'Promotion': __main__.Promotion,\n",
       " '_': '\\n# 6-7 모듈 전역 네임스페이스를 내부 조사해서 만든 promos 리스트\\n\\n새로운 할인 전략이 추가된다면?\\n\\nglobals() : 현재 전역 심벌 테이블을 나타내는 딕셔너리 객체를 반환한다\\n이 딕셔너리는 언제나 현재 모듈에 대한 내용을 담고 있다\\nhttps://docs.python.org/3/library/functions.html#globals\\n',\n",
       " '_11': <Order total: 10.00 due: 9.30>,\n",
       " '_12': <Order total: 60.00 due: 60.00>,\n",
       " '_13': '\\n6-3 할인 전략을 함수로 구현\\n위에서 살펴본 전략 패턴은 discount 함수를 가진 클래스로 구성된다\\n객체의 속성이 없는 관계로 일반 함수로 구성하면 더 단순화 시킬 수 있다\\n',\n",
       " '_18':  < Order total: 42.00 due: 42.00 > ,\n",
       " '_19':  < Order total: 42.00 due: 39.90 > ,\n",
       " '_21':  < Order total: 30.00 due: 28.50 > ,\n",
       " '_23':  < Order total: 10.00 due: 9.30 > ,\n",
       " '_24':  < Order total: 42.00 due: 42.00 > ,\n",
       " '_28': 1.5,\n",
       " '_29': '\\n# 6-7 모듈 전역 네임스페이스를 내부 조사해서 만든 promos 리스트\\n\\n새로운 할인 전략이 추가된다면?\\n\\nglobals() : 현재 전역 심벌 테이블을 나타내는 딕셔너리 객체를 반환한다\\n이 딕셔너리는 언제나 현재 모듈에 대한 내용을 담고 있다\\nhttps://docs.python.org/3/library/functions.html#globals\\n',\n",
       " '_6': <Order total: 60.00 due: 60.00>,\n",
       " '_7': <Order total: 60.00 due: 57.00>,\n",
       " '_9': <Order total: 30.00 due: 28.50>,\n",
       " '__': 1.5,\n",
       " '___':  < Order total: 42.00 due: 42.00 > ,\n",
       " '__builtin__': <module 'builtins' (built-in)>,\n",
       " '__builtins__': <module 'builtins' (built-in)>,\n",
       " '__doc__': '\\n추상 클래스와 추상 메소드가 사라지고, 전략패턴의 클래스를 함수로 구현했다\\n',\n",
       " '__loader__': None,\n",
       " '__name__': '__main__',\n",
       " '__package__': None,\n",
       " '__spec__': None,\n",
       " '_dh': ['/home/ianstream/PycharmProjects/FluentPython'],\n",
       " '_i': '\"\"\"\\n# 6-7 모듈 전역 네임스페이스를 내부 조사해서 만든 promos 리스트\\n\\n새로운 할인 전략이 추가된다면?\\n\\nglobals() : 현재 전역 심벌 테이블을 나타내는 딕셔너리 객체를 반환한다\\n이 딕셔너리는 언제나 현재 모듈에 대한 내용을 담고 있다\\nhttps://docs.python.org/3/library/functions.html#globals\\n\"\"\"',\n",
       " '_i1': '# fluent python 6',\n",
       " '_i10': '# 새로운 카트 - 다품종 구매\\nlong_order = [LineItem(str(item_code), 1, 1.0) for item_code in range(10)]',\n",
       " '_i11': '# 다품종\\nOrder(joe, long_order, LargeOrderPromo())',\n",
       " '_i12': '# 다품종\\nOrder(joe, cart, LargeOrderPromo())',\n",
       " '_i13': '\"\"\"\\n6-3 할인 전략을 함수로 구현\\n위에서 살펴본 전략 패턴은 discount 함수를 가진 클래스로 구성된다\\n객체의 속성이 없는 관계로 일반 함수로 구성하면 더 단순화 시킬 수 있다\\n\"\"\"',\n",
       " '_i14': 'from collections import namedtuple\\n\\nCustomer = namedtuple(\\'Customer\\', \\'name fidelity\\')\\n\\n\\nclass LineItem:\\n    def __init__(self, product, quantity, price):\\n        self.product = product\\n        self.quantity = quantity\\n        self.price = price\\n\\n    def total(self):\\n        return self.price * self.quantity\\n\\n    \\nclass Order: # 콘텍스트\\n    def __init__(self, customer, cart, promotion=None):\\n        self.customer = customer\\n        self.cart = list(cart)\\n        self.promotion = promotion\\n        \\n    def total(self):\\n        if not hasattr(self, \\'__total\\'):\\n            self.__total = sum(item.total() for item in self.cart)\\n        return self.__total\\n\\n    def due(self):\\n        if self.promotion is None:\\n            discount = 0\\n        else:\\n            discount = self.promotion(self)\\n        return self.total() - discount\\n\\n    def __repr__(self):\\n        fmt = \\' < Order total: {:.2f} due: {:.2f} > \\'\\n        return fmt.format(self.total(), self.due())\\n\\n    \\n\"\"\"\\n추상 클래스와 추상 메소드가 사라지고, 전략패턴의 클래스를 함수로 구현했다\\n\"\"\"\\ndef fidelity_promo(order): \\n    \"\"\" 충성도 포인트가 1000 점 이상인 고객에게 전체 5% 할인 적용 \"\"\"\\n    return order.total() * .05 if order.customer.fidelity >= 1000 else 0\\n\\n\\ndef bulk_item_promo(order):\\n    \"\"\"20 개 이상의 동일 상품을 구입하면 10% 할인 적용 \"\"\"\\n    discount = 0\\n    for item in order.cart:\\n        if item.quantity >= 20:\\n            discount += item.total() * .1\\n    return discount\\n\\n\\ndef large_order_promo(order):\\n    \"\"\"10 종류 이상의 상품을 구입하면 전체 7% 할인 적용 \"\"\"\\n    distinct_items = {item.product for item in order.cart}\\n    if len(distinct_items) >= 10:\\n        return order.total() * .07\\n    return 0',\n",
       " '_i15': '# 6-4 할인 전략을 함수로 정의한 Order 클래스의 사용 예',\n",
       " '_i16': \"joe = Customer('John Doe', 0) \\nann = Customer('Ann Smith', 1100)\",\n",
       " '_i17': \"cart = [LineItem('banana', 4, .5), LineItem('apple', 10, 1.5), LineItem('watermellon', 5, 5.0)]\",\n",
       " '_i18': 'Order(joe, cart, fidelity_promo)',\n",
       " '_i19': 'Order(ann, cart, fidelity_promo)',\n",
       " '_i2': '# 6-1',\n",
       " '_i20': \"banana_cart = [LineItem('banana', 30, .5), LineItem('apple', 10, 1.5)]\",\n",
       " '_i21': '# 대량구매\\nOrder(joe, banana_cart, bulk_item_promo)',\n",
       " '_i22': 'long_order = [LineItem(str(item_code), 1, 1.0) for item_code in range(10)]',\n",
       " '_i23': '#다품종 구매\\nOrder(joe, long_order, large_order_promo)',\n",
       " '_i24': 'Order(joe, cart, large_order_promo)',\n",
       " '_i25': '# 최선의 전략 선택하려면?',\n",
       " '_i26': '# 6-6 리스트',\n",
       " '_i27': 'promos = [fidelity_promo, bulk_item_promo, large_order_promo]\\n\\ndef best_promo(order): \\n    \"\"\" 최대로 할인받을 금액을 반환한다 .\\n    \"\"\"\\n    return max(promo(order) for promo in promos)',\n",
       " '_i28': 'best_promo(Order(joe, banana_cart))',\n",
       " '_i29': '\"\"\"\\n# 6-7 모듈 전역 네임스페이스를 내부 조사해서 만든 promos 리스트\\n\\n새로운 할인 전략이 추가된다면?\\n\\nglobals() : 현재 전역 심벌 테이블을 나타내는 딕셔너리 객체를 반환한다\\n이 딕셔너리는 언제나 현재 모듈에 대한 내용을 담고 있다\\nhttps://docs.python.org/3/library/functions.html#globals\\n\"\"\"',\n",
       " '_i3': '# 플러그인 형 할인 전략을 가진 Order 클래스 구현\\n\\nfrom abc import ABC, abstractmethod\\nfrom collections import namedtuple\\n\\nCustomer = namedtuple(\\'Customer\\', \\'name fidelity\\')\\n\\n\\nclass LineItem:\\n    \\n    def __init__(self, product, quantity, price):\\n        self.product = product\\n        self.quantity = quantity\\n        self.price = price\\n\\n    def total(self):\\n        return self.price * self.quantity\\n\\n    \\n# 콘텍스트\\nclass Order:\\n    \\n    def __init__(self, customer, cart, promotion=None):\\n        self.customer = customer\\n        self.cart = list(cart)\\n        self.promotion = promotion\\n    \\n    def total(self):\\n        if not hasattr(self, \\'__total\\'):\\n            self.__total = sum(item.total() for item in self.cart)\\n        return self.__total\\n    \\n    def due(self):\\n        if self.promotion is None:\\n            discount = 0\\n        else:\\n            discount = self.promotion.discount(self)\\n        return self.total() - discount\\n\\n    def __repr__(self):\\n        fmt = \\'<Order total: {:.2f} due: {:.2f}>\\'\\n        return fmt.format(self.total(), self.due())\\n \\n\\n# 전략: Abstract Base Class\\nclass Promotion(ABC):\\n    @abstractmethod\\n    def discount(self, order):\\n        \"\"\"할인액을 구체적인 숫자로 반환한다.\"\"\"\\n\\n        \\n# 첫번째 구체적인 전략\\nclass FidelityPromo(Promotion):\\n    \"\"\"충성도 포인트가 1000점 이상인 고객에게 전체 5% 할인 적용\"\"\"\\n    def discount(self, order):\\n        return order.total() * .05 if order.customer.fidelity >= 1000 else 0\\n\\n\\n# 두번째 구체적인 전략\\nclass Bulkitemromo(Promotion):\\n    \"\"\"20개 이상의 동일 상품을 구입하면 10% 할인 적용\"\"\"\\n    def discount(self, order):\\n        discount = 0\\n        for item in order.cart:\\n            if item.quantity >= 20:\\n                discount += item.total() * .1\\n        return discount\\n\\n\\n# 세번째 구체적인 전략\\nclass LargeOrderPromo(Promotion):\\n    \"\"\"10 종류 이상의 상품을 구입하면 전체 7% 할인 적용\"\"\"\\n    def discount(self, order):\\n        discount = 0\\n        distinct_tems = {item.product for item in order.cart}\\n        if len(distinct_tems) >= 10:\\n            return order.total() * .07\\n        return 0',\n",
       " '_i30': 'globals()',\n",
       " '_i4': '# 6-2 사용예',\n",
       " '_i5': '\"\"\"\\n존의 충성도는 0, 앤은 1100이다. \\n카트목록은 총 3개이다\\n바나나의 수량은 4, 가격은 5 이다\\n사과의 수량은 10, 가격은 1.5 이다\\n수박의 수량은 5, 가격은 5 이다\\n\"\"\"\\njoe = Customer(\\'John Doe\\', 0)\\nann = Customer(\\'Ann Smith\\', 1100)\\ncart = [LineItem(\\'banana\\', 4, 5), LineItem(\\'apple\\', 10, 1.5), LineItem(\\'watermelon\\', 5, 5.0)]',\n",
       " '_i6': '# 충성도 포인트\\nOrder(joe, cart, FidelityPromo())',\n",
       " '_i7': '# 충성도 포인트\\nOrder(ann, cart, FidelityPromo())',\n",
       " '_i8': \"# 새로운 카트 - 대량구매\\nbanana_cart = [LineItem('banana', 30, .5), LineItem('apple', 10, 1.5)]\",\n",
       " '_i9': '# 동일 상품\\nOrder(joe, banana_cart, Bulkitemromo())',\n",
       " '_ih': ['',\n",
       "  '# fluent python 6',\n",
       "  '# 6-1',\n",
       "  '# 플러그인 형 할인 전략을 가진 Order 클래스 구현\\n\\nfrom abc import ABC, abstractmethod\\nfrom collections import namedtuple\\n\\nCustomer = namedtuple(\\'Customer\\', \\'name fidelity\\')\\n\\n\\nclass LineItem:\\n    \\n    def __init__(self, product, quantity, price):\\n        self.product = product\\n        self.quantity = quantity\\n        self.price = price\\n\\n    def total(self):\\n        return self.price * self.quantity\\n\\n    \\n# 콘텍스트\\nclass Order:\\n    \\n    def __init__(self, customer, cart, promotion=None):\\n        self.customer = customer\\n        self.cart = list(cart)\\n        self.promotion = promotion\\n    \\n    def total(self):\\n        if not hasattr(self, \\'__total\\'):\\n            self.__total = sum(item.total() for item in self.cart)\\n        return self.__total\\n    \\n    def due(self):\\n        if self.promotion is None:\\n            discount = 0\\n        else:\\n            discount = self.promotion.discount(self)\\n        return self.total() - discount\\n\\n    def __repr__(self):\\n        fmt = \\'<Order total: {:.2f} due: {:.2f}>\\'\\n        return fmt.format(self.total(), self.due())\\n \\n\\n# 전략: Abstract Base Class\\nclass Promotion(ABC):\\n    @abstractmethod\\n    def discount(self, order):\\n        \"\"\"할인액을 구체적인 숫자로 반환한다.\"\"\"\\n\\n        \\n# 첫번째 구체적인 전략\\nclass FidelityPromo(Promotion):\\n    \"\"\"충성도 포인트가 1000점 이상인 고객에게 전체 5% 할인 적용\"\"\"\\n    def discount(self, order):\\n        return order.total() * .05 if order.customer.fidelity >= 1000 else 0\\n\\n\\n# 두번째 구체적인 전략\\nclass Bulkitemromo(Promotion):\\n    \"\"\"20개 이상의 동일 상품을 구입하면 10% 할인 적용\"\"\"\\n    def discount(self, order):\\n        discount = 0\\n        for item in order.cart:\\n            if item.quantity >= 20:\\n                discount += item.total() * .1\\n        return discount\\n\\n\\n# 세번째 구체적인 전략\\nclass LargeOrderPromo(Promotion):\\n    \"\"\"10 종류 이상의 상품을 구입하면 전체 7% 할인 적용\"\"\"\\n    def discount(self, order):\\n        discount = 0\\n        distinct_tems = {item.product for item in order.cart}\\n        if len(distinct_tems) >= 10:\\n            return order.total() * .07\\n        return 0',\n",
       "  '# 6-2 사용예',\n",
       "  '\"\"\"\\n존의 충성도는 0, 앤은 1100이다. \\n카트목록은 총 3개이다\\n바나나의 수량은 4, 가격은 5 이다\\n사과의 수량은 10, 가격은 1.5 이다\\n수박의 수량은 5, 가격은 5 이다\\n\"\"\"\\njoe = Customer(\\'John Doe\\', 0)\\nann = Customer(\\'Ann Smith\\', 1100)\\ncart = [LineItem(\\'banana\\', 4, 5), LineItem(\\'apple\\', 10, 1.5), LineItem(\\'watermelon\\', 5, 5.0)]',\n",
       "  '# 충성도 포인트\\nOrder(joe, cart, FidelityPromo())',\n",
       "  '# 충성도 포인트\\nOrder(ann, cart, FidelityPromo())',\n",
       "  \"# 새로운 카트 - 대량구매\\nbanana_cart = [LineItem('banana', 30, .5), LineItem('apple', 10, 1.5)]\",\n",
       "  '# 동일 상품\\nOrder(joe, banana_cart, Bulkitemromo())',\n",
       "  '# 새로운 카트 - 다품종 구매\\nlong_order = [LineItem(str(item_code), 1, 1.0) for item_code in range(10)]',\n",
       "  '# 다품종\\nOrder(joe, long_order, LargeOrderPromo())',\n",
       "  '# 다품종\\nOrder(joe, cart, LargeOrderPromo())',\n",
       "  '\"\"\"\\n6-3 할인 전략을 함수로 구현\\n위에서 살펴본 전략 패턴은 discount 함수를 가진 클래스로 구성된다\\n객체의 속성이 없는 관계로 일반 함수로 구성하면 더 단순화 시킬 수 있다\\n\"\"\"',\n",
       "  'from collections import namedtuple\\n\\nCustomer = namedtuple(\\'Customer\\', \\'name fidelity\\')\\n\\n\\nclass LineItem:\\n    def __init__(self, product, quantity, price):\\n        self.product = product\\n        self.quantity = quantity\\n        self.price = price\\n\\n    def total(self):\\n        return self.price * self.quantity\\n\\n    \\nclass Order: # 콘텍스트\\n    def __init__(self, customer, cart, promotion=None):\\n        self.customer = customer\\n        self.cart = list(cart)\\n        self.promotion = promotion\\n        \\n    def total(self):\\n        if not hasattr(self, \\'__total\\'):\\n            self.__total = sum(item.total() for item in self.cart)\\n        return self.__total\\n\\n    def due(self):\\n        if self.promotion is None:\\n            discount = 0\\n        else:\\n            discount = self.promotion(self)\\n        return self.total() - discount\\n\\n    def __repr__(self):\\n        fmt = \\' < Order total: {:.2f} due: {:.2f} > \\'\\n        return fmt.format(self.total(), self.due())\\n\\n    \\n\"\"\"\\n추상 클래스와 추상 메소드가 사라지고, 전략패턴의 클래스를 함수로 구현했다\\n\"\"\"\\ndef fidelity_promo(order): \\n    \"\"\" 충성도 포인트가 1000 점 이상인 고객에게 전체 5% 할인 적용 \"\"\"\\n    return order.total() * .05 if order.customer.fidelity >= 1000 else 0\\n\\n\\ndef bulk_item_promo(order):\\n    \"\"\"20 개 이상의 동일 상품을 구입하면 10% 할인 적용 \"\"\"\\n    discount = 0\\n    for item in order.cart:\\n        if item.quantity >= 20:\\n            discount += item.total() * .1\\n    return discount\\n\\n\\ndef large_order_promo(order):\\n    \"\"\"10 종류 이상의 상품을 구입하면 전체 7% 할인 적용 \"\"\"\\n    distinct_items = {item.product for item in order.cart}\\n    if len(distinct_items) >= 10:\\n        return order.total() * .07\\n    return 0',\n",
       "  '# 6-4 할인 전략을 함수로 정의한 Order 클래스의 사용 예',\n",
       "  \"joe = Customer('John Doe', 0) \\nann = Customer('Ann Smith', 1100)\",\n",
       "  \"cart = [LineItem('banana', 4, .5), LineItem('apple', 10, 1.5), LineItem('watermellon', 5, 5.0)]\",\n",
       "  'Order(joe, cart, fidelity_promo)',\n",
       "  'Order(ann, cart, fidelity_promo)',\n",
       "  \"banana_cart = [LineItem('banana', 30, .5), LineItem('apple', 10, 1.5)]\",\n",
       "  '# 대량구매\\nOrder(joe, banana_cart, bulk_item_promo)',\n",
       "  'long_order = [LineItem(str(item_code), 1, 1.0) for item_code in range(10)]',\n",
       "  '#다품종 구매\\nOrder(joe, long_order, large_order_promo)',\n",
       "  'Order(joe, cart, large_order_promo)',\n",
       "  '# 최선의 전략 선택하려면?',\n",
       "  '# 6-6 리스트',\n",
       "  'promos = [fidelity_promo, bulk_item_promo, large_order_promo]\\n\\ndef best_promo(order): \\n    \"\"\" 최대로 할인받을 금액을 반환한다 .\\n    \"\"\"\\n    return max(promo(order) for promo in promos)',\n",
       "  'best_promo(Order(joe, banana_cart))',\n",
       "  '\"\"\"\\n# 6-7 모듈 전역 네임스페이스를 내부 조사해서 만든 promos 리스트\\n\\n새로운 할인 전략이 추가된다면?\\n\\nglobals() : 현재 전역 심벌 테이블을 나타내는 딕셔너리 객체를 반환한다\\n이 딕셔너리는 언제나 현재 모듈에 대한 내용을 담고 있다\\nhttps://docs.python.org/3/library/functions.html#globals\\n\"\"\"',\n",
       "  'globals()'],\n",
       " '_ii': 'best_promo(Order(joe, banana_cart))',\n",
       " '_iii': 'promos = [fidelity_promo, bulk_item_promo, large_order_promo]\\n\\ndef best_promo(order): \\n    \"\"\" 최대로 할인받을 금액을 반환한다 .\\n    \"\"\"\\n    return max(promo(order) for promo in promos)',\n",
       " '_oh': {6: <Order total: 60.00 due: 60.00>,\n",
       "  7: <Order total: 60.00 due: 57.00>,\n",
       "  9: <Order total: 30.00 due: 28.50>,\n",
       "  11: <Order total: 10.00 due: 9.30>,\n",
       "  12: <Order total: 60.00 due: 60.00>,\n",
       "  13: '\\n6-3 할인 전략을 함수로 구현\\n위에서 살펴본 전략 패턴은 discount 함수를 가진 클래스로 구성된다\\n객체의 속성이 없는 관계로 일반 함수로 구성하면 더 단순화 시킬 수 있다\\n',\n",
       "  18:  < Order total: 42.00 due: 42.00 > ,\n",
       "  19:  < Order total: 42.00 due: 39.90 > ,\n",
       "  21:  < Order total: 30.00 due: 28.50 > ,\n",
       "  23:  < Order total: 10.00 due: 9.30 > ,\n",
       "  24:  < Order total: 42.00 due: 42.00 > ,\n",
       "  28: 1.5,\n",
       "  29: '\\n# 6-7 모듈 전역 네임스페이스를 내부 조사해서 만든 promos 리스트\\n\\n새로운 할인 전략이 추가된다면?\\n\\nglobals() : 현재 전역 심벌 테이블을 나타내는 딕셔너리 객체를 반환한다\\n이 딕셔너리는 언제나 현재 모듈에 대한 내용을 담고 있다\\nhttps://docs.python.org/3/library/functions.html#globals\\n'},\n",
       " '_sh': <module 'IPython.core.shadowns' from '/home/ianstream/.virtualenvs/ianstream/lib/python3.4/site-packages/IPython/core/shadowns.py'>,\n",
       " 'abstractmethod': <function abc.abstractmethod>,\n",
       " 'ann': Customer(name='Ann Smith', fidelity=1100),\n",
       " 'banana_cart': [<__main__.LineItem at 0x7f6a867e6b38>,\n",
       "  <__main__.LineItem at 0x7f6a867e6b70>],\n",
       " 'best_promo': <function __main__.best_promo>,\n",
       " 'bulk_item_promo': <function __main__.bulk_item_promo>,\n",
       " 'cart': [<__main__.LineItem at 0x7f6a867e6a20>,\n",
       "  <__main__.LineItem at 0x7f6a867e6a58>,\n",
       "  <__main__.LineItem at 0x7f6a867e6a90>],\n",
       " 'exit': <IPython.core.autocall.ZMQExitAutocall at 0x7f6a8e4e3940>,\n",
       " 'fidelity_promo': <function __main__.fidelity_promo>,\n",
       " 'get_ipython': <bound method ZMQInteractiveShell.get_ipython of <IPython.kernel.zmq.zmqshell.ZMQInteractiveShell object at 0x7f6a8e4d1668>>,\n",
       " 'joe': Customer(name='John Doe', fidelity=0),\n",
       " 'large_order_promo': <function __main__.large_order_promo>,\n",
       " 'long_order': [<__main__.LineItem at 0x7f6a867e6d30>,\n",
       "  <__main__.LineItem at 0x7f6a867e6da0>,\n",
       "  <__main__.LineItem at 0x7f6a867e6e10>,\n",
       "  <__main__.LineItem at 0x7f6a867e6e80>,\n",
       "  <__main__.LineItem at 0x7f6a867e6eb8>,\n",
       "  <__main__.LineItem at 0x7f6a867e6f60>,\n",
       "  <__main__.LineItem at 0x7f6a867e6fd0>,\n",
       "  <__main__.LineItem at 0x7f6a867d18d0>,\n",
       "  <__main__.LineItem at 0x7f6a867d1400>,\n",
       "  <__main__.LineItem at 0x7f6a867d1ba8>],\n",
       " 'namedtuple': <function collections.namedtuple>,\n",
       " 'promos': [<function __main__.fidelity_promo>,\n",
       "  <function __main__.bulk_item_promo>,\n",
       "  <function __main__.large_order_promo>],\n",
       " 'quit': <IPython.core.autocall.ZMQExitAutocall at 0x7f6a8e4e3940>}"
      ]
     },
     "execution_count": 30,
     "metadata": {},
     "output_type": "execute_result"
    }
   ],
   "source": [
    "globals()"
   ]
  },
  {
   "cell_type": "code",
   "execution_count": 45,
   "metadata": {
    "collapsed": true
   },
   "outputs": [],
   "source": [
    "# 무한재귀호출을 피하기 위해 best_promo 를 제외한 _promo 로 끝나는 이름의 리스트를 만든다.\n",
    "promos = [globals()[name] for name in globals() if name.endswith('_promo') and name != 'best_promo']"
   ]
  },
  {
   "cell_type": "code",
   "execution_count": 47,
   "metadata": {
    "collapsed": false
   },
   "outputs": [
    {
     "data": {
      "text/plain": [
       "[<function __main__.large_order_promo>,\n",
       " <function __main__.fidelity_promo>,\n",
       " <function __main__.bulk_item_promo>]"
      ]
     },
     "execution_count": 47,
     "metadata": {},
     "output_type": "execute_result"
    }
   ],
   "source": [
    "promos"
   ]
  },
  {
   "cell_type": "code",
   "execution_count": 49,
   "metadata": {
    "collapsed": true
   },
   "outputs": [],
   "source": [
    "def best_promo(order):\n",
    "    \"\"\" 최대로 할인받을 금액을 반환한다 .\n",
    "    \"\"\"\n",
    "    return max(promo(order) for promo in promos)"
   ]
  },
  {
   "cell_type": "code",
   "execution_count": 50,
   "metadata": {
    "collapsed": false
   },
   "outputs": [
    {
     "data": {
      "text/plain": [
       "1.5"
      ]
     },
     "execution_count": 50,
     "metadata": {},
     "output_type": "execute_result"
    }
   ],
   "source": [
    "best_promo(Order(joe, banana_cart))"
   ]
  },
  {
   "cell_type": "code",
   "execution_count": 51,
   "metadata": {
    "collapsed": true
   },
   "outputs": [],
   "source": [
    "# 6-8 새로운 promotions 모듈을 내부 조사해서 만든 promos 리스트"
   ]
  },
  {
   "cell_type": "code",
   "execution_count": 57,
   "metadata": {
    "collapsed": false
   },
   "outputs": [],
   "source": [
    "import inspect\n",
    "import promotions  # 할인액 계산을 위한 함수들을 모은 모듈"
   ]
  },
  {
   "cell_type": "code",
   "execution_count": 62,
   "metadata": {
    "collapsed": false
   },
   "outputs": [
    {
     "data": {
      "text/plain": [
       "[('bulk_item_promo', <function promotions.bulk_item_promo>),\n",
       " ('fidelity_promo', <function promotions.fidelity_promo>),\n",
       " ('large_order_promo', <function promotions.large_order_promo>)]"
      ]
     },
     "execution_count": 62,
     "metadata": {},
     "output_type": "execute_result"
    }
   ],
   "source": [
    "inspect.getmembers(promotions, inspect.isfunction)"
   ]
  },
  {
   "cell_type": "code",
   "execution_count": 65,
   "metadata": {
    "collapsed": true
   },
   "outputs": [],
   "source": [
    "promos = [func for name, func in inspect.getmembers(promotions, inspect.isfunction)]"
   ]
  },
  {
   "cell_type": "code",
   "execution_count": 66,
   "metadata": {
    "collapsed": false
   },
   "outputs": [
    {
     "data": {
      "text/plain": [
       "[<function promotions.bulk_item_promo>,\n",
       " <function promotions.fidelity_promo>,\n",
       " <function promotions.large_order_promo>]"
      ]
     },
     "execution_count": 66,
     "metadata": {},
     "output_type": "execute_result"
    }
   ],
   "source": [
    "promos"
   ]
  },
  {
   "cell_type": "code",
   "execution_count": 67,
   "metadata": {
    "collapsed": true
   },
   "outputs": [],
   "source": [
    "def best_promo(order):\n",
    "    \"\"\" 최대로 할인받을 금액을 반환한다 .\n",
    "    \"\"\"\n",
    "    return max(promo(order) for promo in promos)"
   ]
  },
  {
   "cell_type": "code",
   "execution_count": 68,
   "metadata": {
    "collapsed": false
   },
   "outputs": [
    {
     "data": {
      "text/plain": [
       "1.5"
      ]
     },
     "execution_count": 68,
     "metadata": {},
     "output_type": "execute_result"
    }
   ],
   "source": [
    "best_promo(Order(joe, banana_cart))"
   ]
  },
  {
   "cell_type": "code",
   "execution_count": null,
   "metadata": {
    "collapsed": true
   },
   "outputs": [],
   "source": [
    "# 7장 데커레이터로 개선한 전략  패턴"
   ]
  },
  {
   "cell_type": "code",
   "execution_count": 128,
   "metadata": {
    "collapsed": true
   },
   "outputs": [],
   "source": [
    "from collections import namedtuple\n",
    "Customer = namedtuple('Customer', 'name fidelity')"
   ]
  },
  {
   "cell_type": "code",
   "execution_count": 129,
   "metadata": {
    "collapsed": true
   },
   "outputs": [],
   "source": [
    "# 콘텍스트\n",
    "class Order:\n",
    "    \n",
    "    def __init__(self, customer, cart, promotion=None):\n",
    "        self.customer = customer\n",
    "        self.cart = list(cart)\n",
    "        self.promotion = promotion\n",
    "    \n",
    "    def total(self):\n",
    "        if not hasattr(self, '__total'):\n",
    "            self.__total = sum(item.total() for item in self.cart)\n",
    "        return self.__total\n",
    "    \n",
    "    def due(self):\n",
    "        if self.promotion is None:\n",
    "            discount = 0\n",
    "        else:\n",
    "            discount = self.promotion.discount(self)\n",
    "        return self.total() - discount\n",
    "\n",
    "    def __repr__(self):\n",
    "        fmt = '<Order total: {:.2f} due: {:.2f}>'\n",
    "        return fmt.format(self.total(), self.due())"
   ]
  },
  {
   "cell_type": "code",
   "execution_count": 155,
   "metadata": {
    "collapsed": true
   },
   "outputs": [],
   "source": [
    "promos = []"
   ]
  },
  {
   "cell_type": "code",
   "execution_count": 156,
   "metadata": {
    "collapsed": false
   },
   "outputs": [],
   "source": [
    "def promotion(promo_func):\n",
    "    promos.append(promo_func)\n",
    "    return promo_func"
   ]
  },
  {
   "cell_type": "code",
   "execution_count": 157,
   "metadata": {
    "collapsed": false
   },
   "outputs": [],
   "source": [
    "@promotion\n",
    "def fidelity(order):\n",
    "    \"\"\" 충성도 포인트가 1000 점 이상인 고객에게 전체 5% 할인 적용 \"\"\"\n",
    "    return order.total() * .05 if order.customer.fidelity >= 1000 else 0\n",
    "\n",
    "@promotion\n",
    "def bulk_item(order):\n",
    "    \"\"\"20 개 이상의 동일 상품을 구입하면 10% 할인 적용 \"\"\"\n",
    "    discount = 0\n",
    "    for item in order.cart:\n",
    "        if item.quantity >= 20:\n",
    "            discount += item.total() * .1\n",
    "    return discount\n",
    "\n",
    "@promotion\n",
    "def large_order(order):\n",
    "    \"\"\"10 종류 이상의 상품을 구입하면 전체 7% 할인 적용 \"\"\"\n",
    "    distinct_items = {item.product for item in order.cart}\n",
    "    if len(distinct_items) >= 10:\n",
    "        return order.total() * .07\n",
    "    return 0\n",
    "\n",
    "def list_promo(order):\n",
    "    \"\"\"프로모션 별 할인금액 리스트를 구한다\n",
    "    \"\"\"\n",
    "    return [(promo, promo(order)) for promo in promos]\n",
    "\n",
    "def best_promo(order):\n",
    "    \"\"\" 최대로 할인받을 금액을 반환한다 .\n",
    "    \"\"\"\n",
    "    return max(promo(order) for promo in promos)"
   ]
  },
  {
   "cell_type": "code",
   "execution_count": 158,
   "metadata": {
    "collapsed": false
   },
   "outputs": [
    {
     "data": {
      "text/plain": [
       "[<function __main__.fidelity>,\n",
       " <function __main__.bulk_item>,\n",
       " <function __main__.large_order>]"
      ]
     },
     "execution_count": 158,
     "metadata": {},
     "output_type": "execute_result"
    }
   ],
   "source": [
    "promos"
   ]
  },
  {
   "cell_type": "code",
   "execution_count": 159,
   "metadata": {
    "collapsed": false
   },
   "outputs": [
    {
     "data": {
      "text/plain": [
       "1.5"
      ]
     },
     "execution_count": 159,
     "metadata": {},
     "output_type": "execute_result"
    }
   ],
   "source": [
    "best_promo(Order(joe, banana_cart))"
   ]
  },
  {
   "cell_type": "code",
   "execution_count": 160,
   "metadata": {
    "collapsed": false
   },
   "outputs": [
    {
     "data": {
      "text/plain": [
       "[(<function __main__.fidelity>, 0),\n",
       " (<function __main__.bulk_item>, 1.5),\n",
       " (<function __main__.large_order>, 0)]"
      ]
     },
     "execution_count": 160,
     "metadata": {},
     "output_type": "execute_result"
    }
   ],
   "source": [
    "list_promo(Order(joe, banana_cart))"
   ]
  },
  {
   "cell_type": "code",
   "execution_count": 84,
   "metadata": {
    "collapsed": true
   },
   "outputs": [],
   "source": [
    "# 6-9 macrocommand "
   ]
  },
  {
   "cell_type": "code",
   "execution_count": 85,
   "metadata": {
    "collapsed": true
   },
   "outputs": [],
   "source": [
    "class Command:\n",
    "    def execute(self): pass\n",
    "\n",
    "class Loony(Command):\n",
    "    def execute(self):\n",
    "        print(\"You're a loony.\")\n",
    "\n",
    "class NewBrain(Command):\n",
    "    def execute(self):\n",
    "        print(\"You might even need a new brain.\")\n",
    "\n",
    "class Afford(Command):\n",
    "    def execute(self):\n",
    "        print(\"I couldn't afford a whole new brain.\")\n",
    "\n",
    "# An object that holds commands:\n",
    "class Macro:\n",
    "    def __init__(self):\n",
    "        self.commands = []\n",
    "    def add(self, command):\n",
    "        self.commands.append(command)\n",
    "    def run(self):\n",
    "        for c in self.commands:\n",
    "            c.execute()\n"
   ]
  },
  {
   "cell_type": "code",
   "execution_count": 88,
   "metadata": {
    "collapsed": false
   },
   "outputs": [
    {
     "name": "stdout",
     "output_type": "stream",
     "text": [
      "You're a loony.\n",
      "You might even need a new brain.\n"
     ]
    }
   ],
   "source": [
    "macro = Macro()\n",
    "\n",
    "macro.add(Loony())\n",
    "macro.add(NewBrain())\n",
    "# macro.add(Afford())\n",
    "\n",
    "macro.run()"
   ]
  }
 ],
 "metadata": {
  "kernelspec": {
   "display_name": "Python 3",
   "language": "python",
   "name": "python3"
  },
  "language_info": {
   "codemirror_mode": {
    "name": "ipython",
    "version": 3
   },
   "file_extension": ".py",
   "mimetype": "text/x-python",
   "name": "python",
   "nbconvert_exporter": "python",
   "pygments_lexer": "ipython3",
   "version": "3.4.3"
  }
 },
 "nbformat": 4,
 "nbformat_minor": 0
}
